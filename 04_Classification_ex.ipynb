{
 "cells": [
  {
   "cell_type": "markdown",
   "metadata": {},
   "source": [
    "# 04 – Classification\n",
    "\n",
    "In this exercise, we will train a classification model to predict categorical targets.\n",
    "\n",
    "Note: make sure to run all Code cells from the beginning at least once to load the required data. Use `random_state=42` where random numbers are used to ensure determinism, i.e. reproducibility."
   ]
  },
  {
   "cell_type": "code",
   "execution_count": 1,
   "metadata": {},
   "outputs": [
    {
     "name": "stdout",
     "output_type": "stream",
     "text": [
      "Populating the interactive namespace from numpy and matplotlib\n"
     ]
    }
   ],
   "source": [
    "%pylab inline"
   ]
  },
  {
   "cell_type": "markdown",
   "metadata": {},
   "source": [
    "### The MNIST handwritten digits dataset\n",
    "\n",
    "For this exercise we will use the famous MNIST digits dataset, which was presented in the lecture. The task is to classify images of 28x28 pixels into one of the 10 classes (digits 0 to 9).\n",
    "\n",
    "Scikit-learn can easily load the dataset for us:"
   ]
  },
  {
   "cell_type": "code",
   "execution_count": 2,
   "metadata": {},
   "outputs": [
    {
     "data": {
      "text/plain": [
       "dict_keys(['data', 'target', 'feature_names', 'DESCR', 'details', 'categories', 'url'])"
      ]
     },
     "execution_count": 2,
     "metadata": {},
     "output_type": "execute_result"
    }
   ],
   "source": [
    "from sklearn.datasets import fetch_openml\n",
    "mnist = fetch_openml('mnist_784', version=1) # ('MNIST original')\n",
    "mnist.keys()"
   ]
  },
  {
   "cell_type": "code",
   "execution_count": 3,
   "metadata": {
    "scrolled": false
   },
   "outputs": [],
   "source": [
    "X, y = mnist[\"data\"], mnist[\"target\"]"
   ]
  },
  {
   "cell_type": "code",
   "execution_count": 4,
   "metadata": {},
   "outputs": [
    {
     "data": {
      "text/plain": [
       "((600, 784), (600,))"
      ]
     },
     "execution_count": 4,
     "metadata": {},
     "output_type": "execute_result"
    }
   ],
   "source": [
    "X_train, X_test, y_train, y_test = X[:600], X[600:], y[:600], y[600:]\n",
    "\n",
    "## MNIST is already shuffled (see HOML2 S. 91)\n",
    "# from sklearn.utils import shuffle\n",
    "# X_train, y_train = shuffle(X_train, y_train)\n",
    "\n",
    "X_train.shape, y_train.shape"
   ]
  },
  {
   "cell_type": "markdown",
   "metadata": {},
   "source": [
    "To get a sense of the data, we'll look at one of the training samples. As you can see, the images are rows of 784 elements in the `X` matrix, so we have to reshape it to the original 28x28 image for plotting."
   ]
  },
  {
   "cell_type": "code",
   "execution_count": 5,
   "metadata": {},
   "outputs": [
    {
     "data": {
      "image/png": "[encoded data removed]",
      "text/plain": [
       "<Figure size 432x288 with 1 Axes>"
      ]
     },
     "metadata": {
      "needs_background": "light"
     },
     "output_type": "display_data"
    }
   ],
   "source": [
    "some_digit = X[36000]\n",
    "some_digit_image = some_digit.reshape(28, 28)\n",
    "plt.imshow(some_digit_image, cmap = matplotlib.cm.binary, interpolation=\"nearest\")\n",
    "plt.axis(\"off\");"
   ]
  },
  {
   "cell_type": "code",
   "execution_count": 6,
   "metadata": {
    "scrolled": true
   },
   "outputs": [
    {
     "data": {
      "text/plain": [
       "'9'"
      ]
     },
     "execution_count": 6,
     "metadata": {},
     "output_type": "execute_result"
    }
   ],
   "source": [
    "y[36000]"
   ]
  },
  {
   "cell_type": "markdown",
   "metadata": {},
   "source": [
    "As you can see, the labels are stored as strings, not as numbers. So let's convert those to integers:"
   ]
  },
  {
   "cell_type": "code",
   "execution_count": 7,
   "metadata": {
    "scrolled": false
   },
   "outputs": [
    {
     "data": {
      "text/plain": [
       "9"
      ]
     },
     "execution_count": 7,
     "metadata": {},
     "output_type": "execute_result"
    }
   ],
   "source": [
    "y = y.astype(np.uint8)\n",
    "y[36000]"
   ]
  },
  {
   "cell_type": "markdown",
   "metadata": {},
   "source": [
    "### Exercise\n",
    "\n",
    "Use python to inspect the MNIST dataset you downloaded above concerning its number of instances (available for training and testing), number of features and their value ranges."
   ]
  },
  {
   "cell_type": "code",
   "execution_count": 8,
   "metadata": {
    "scrolled": false
   },
   "outputs": [],
   "source": [
    "import numpy as np\n",
    "import pandas as pd"
   ]
  },
  {
   "cell_type": "code",
   "execution_count": 9,
   "metadata": {},
   "outputs": [
    {
     "name": "stdout",
     "output_type": "stream",
     "text": [
      "number of instances\n",
      "70000\n"
     ]
    }
   ],
   "source": [
    "print(\"number of instances\")\n",
    "print(len(mnist[\"data\"]))"
   ]
  },
  {
   "cell_type": "code",
   "execution_count": 10,
   "metadata": {},
   "outputs": [
    {
     "name": "stdout",
     "output_type": "stream",
     "text": [
      "number of features\n",
      "784\n"
     ]
    }
   ],
   "source": [
    "print(\"number of features\")\n",
    "print(len(mnist.feature_names))"
   ]
  },
  {
   "cell_type": "code",
   "execution_count": 11,
   "metadata": {},
   "outputs": [
    {
     "name": "stdout",
     "output_type": "stream",
     "text": [
      "values ranges\n",
      "255.0 0.0\n"
     ]
    }
   ],
   "source": [
    "print(\"values ranges\")\n",
    "print(some_digit_image.max(),some_digit_image.min())"
   ]
  },
  {
   "cell_type": "markdown",
   "metadata": {},
   "source": [
    "### Questions\n",
    "\n",
    "1. How many instances has the MNIST dataset?\n",
    "2. How many features has the MNIST dataset? Why?\n",
    "3. What is the value range of the features of the MNIST dataset? Why?\n",
    "4. How many label does the dataset have?\n",
    "5. Are we bound to use semi-supervised learning methods?"
   ]
  },
  {
   "cell_type": "markdown",
   "metadata": {},
   "source": [
    "### Answer\n",
    "\n",
    "1. 70000\n",
    "2. 784 Es handelt sich um ein Bild mit 28x28 Pixel. 28*28=784 ist. \n",
    "3. 0-255 Jedes feature eines Datensatzes enspricht einem Pixel, dieser kann in einem Werte Bereich von 0-255 liegen.\n",
    "4. 10 ,da der Zahlen bereich von 0-9 geht.\n",
    "5. Nein, alle Daten sind zugeordnet."
   ]
  },
  {
   "cell_type": "markdown",
   "metadata": {},
   "source": [
    "### Exercise\n",
    "\n",
    "Train a simple `SGDClassifier` with `loss=\"hinge\", random_state=42` (default parameters otherwise) on the training set and compute the [F1-Score](http://scikit-learn.org/stable/modules/generated/sklearn.metrics.f1_score.html) **per class** on the test set.\\\n",
    "Time both the execution of the training and the testing using `%time` before the actual code line.\n",
    "\n",
    "Then [plot](https://matplotlib.org/api/_as_gen/matplotlib.pyplot.matshow.html) the test set [confusion matrix](http://scikit-learn.org/stable/modules/generated/sklearn.metrics.confusion_matrix.html), with rows being the true class and columns being the predicted classes. \n",
    "\n",
    "*Hint:* set the diagonal elements of the matrix [to zero](https://docs.scipy.org/doc/numpy-1.15.0/reference/generated/numpy.fill_diagonal.html) to make the errors more visible."
   ]
  },
  {
   "cell_type": "code",
   "execution_count": 12,
   "metadata": {},
   "outputs": [
    {
     "name": "stdout",
     "output_type": "stream",
     "text": [
      "CPU times: user 111 ms, sys: 0 ns, total: 111 ms\n",
      "Wall time: 111 ms\n",
      "CPU times: user 856 ms, sys: 188 ms, total: 1.04 s\n",
      "Wall time: 517 ms\n",
      "CPU times: user 1.01 s, sys: 280 ms, total: 1.29 s\n",
      "Wall time: 540 ms\n"
     ]
    }
   ],
   "source": [
    "## train SGD and then predict labels for the test set \n",
    "from sklearn.linear_model import SGDClassifier\n",
    "sgd=SGDClassifier(loss='hinge',random_state=42)\n",
    "%time sgd.fit(X_train, y_train)\n",
    "%time y_pred = sgd.predict(X_test)\n",
    "%time y_pred = sgd.predict(X_test)"
   ]
  },
  {
   "cell_type": "code",
   "execution_count": 13,
   "metadata": {},
   "outputs": [
    {
     "data": {
      "text/plain": [
       "array([0.9190911 , 0.93733484, 0.8320975 , 0.81607658, 0.80360602,\n",
       "       0.69490952, 0.87514318, 0.85281903, 0.71189339, 0.71478285])"
      ]
     },
     "execution_count": 13,
     "metadata": {},
     "output_type": "execute_result"
    }
   ],
   "source": [
    "## F1-score\n",
    "from sklearn.metrics import f1_score\n",
    "f1_score(y_test, y_pred, average=None)"
   ]
  },
  {
   "cell_type": "code",
   "execution_count": 14,
   "metadata": {},
   "outputs": [],
   "source": [
    "## generate confusion matrix\n",
    "from sklearn.metrics import confusion_matrix\n",
    "conf_mat=confusion_matrix(y_test, y_pred)"
   ]
  },
  {
   "cell_type": "code",
   "execution_count": 15,
   "metadata": {},
   "outputs": [
    {
     "data": {
      "text/plain": [
       "(<matplotlib.image.AxesImage at 0x7f7cad7c6090>,\n",
       " Text(0, 0.5, 'Actual'),\n",
       " Text(0.5, 0, 'Predicted'))"
      ]
     },
     "execution_count": 15,
     "metadata": {},
     "output_type": "execute_result"
    },
    {
     "data": {
      "image/png": "[encoded data removed]",
      "text/plain": [
       "<Figure size 288x288 with 1 Axes>"
      ]
     },
     "metadata": {
      "needs_background": "light"
     },
     "output_type": "display_data"
    }
   ],
   "source": [
    "## plot confusion matrix\n",
    "np.fill_diagonal(conf_mat, 0)\n",
    "matshow(conf_mat), ylabel(\"Actual\"), xlabel(\"Predicted\")"
   ]
  },
  {
   "cell_type": "markdown",
   "metadata": {},
   "source": [
    "### Questions\n",
    "\n",
    "- Looking at your confusion matrix, which seems to be the most common mistake of the classifier? \n",
    "- Why do you think it makes this mistake?"
   ]
  },
  {
   "cell_type": "markdown",
   "metadata": {},
   "source": [
    "#### Answer\n",
    "1) Die meisten Fehler liegen bei 8 und 9.#\n",
    "\n",
    "2) Da eine 8 sowohl als eine 3, 6 oder auch 9 interpretiert werden kann, ist hier die Verwechslungsgefahr größer. "
   ]
  },
  {
   "cell_type": "markdown",
   "metadata": {},
   "source": [
    "### Exercise\n",
    "\n",
    "Now use the function of scikit-learn to do a 4-fold CV on the same classifier, with `scoring=\"accuracy\"` and `n_jobs=-1` to make use of all your CPU cores and time the execution."
   ]
  },
  {
   "cell_type": "code",
   "execution_count": 16,
   "metadata": {
    "scrolled": true
   },
   "outputs": [
    {
     "name": "stdout",
     "output_type": "stream",
     "text": [
      "{'fit_time': array([176.61761928, 171.47721434, 183.4586668 , 184.36421227]), 'score_time': array([0.07451415, 0.09155917, 0.04898739, 0.04349589]), 'test_score': array([0.86349755, 0.83586906, 0.87231222, 0.8557016 ])}\n"
     ]
    }
   ],
   "source": [
    "## CV\n",
    "from sklearn.model_selection import cross_validate\n",
    "from sklearn.metrics import recall_score\n",
    "scores = cross_validate(sgd, X_test, y_test,cv=4, n_jobs=-1,scoring=\"accuracy\")\n",
    "print(scores)"
   ]
  },
  {
   "cell_type": "markdown",
   "metadata": {},
   "source": [
    "### Question\n",
    "\n",
    "Independent of your timing result: On a machine with 4 CPU cores the 4-fold CV is generally faster than the training with `clf.fit(X_train, y_train)`.\\\n",
    "Why?"
   ]
  },
  {
   "cell_type": "markdown",
   "metadata": {},
   "source": [
    "### Answer\n",
    "Durch die Aufteilung auf die 4 Kerne, können die Daten schneller mit Cross_val erfasst werden.\n"
   ]
  },
  {
   "cell_type": "markdown",
   "metadata": {},
   "source": [
    "### Exercise\n",
    "Now scale the data to zero mean and unit variance. Use the scikit-learn function `StandardScaler` for that.\\\n",
    "Then run 4-fold CV again and plot the confusion matrix (as above)."
   ]
  },
  {
   "cell_type": "code",
   "execution_count": 17,
   "metadata": {},
   "outputs": [],
   "source": [
    "## scale features\n",
    "from sklearn.preprocessing import StandardScaler\n",
    "scaler=StandardScaler(with_mean=True, with_std=True)\n",
    "scaler.fit(X_train)\n",
    "X_train_scale=scaler.transform(X_train)"
   ]
  },
  {
   "cell_type": "code",
   "execution_count": 18,
   "metadata": {},
   "outputs": [
    {
     "name": "stdout",
     "output_type": "stream",
     "text": [
      "CPU times: user 111 ms, sys: 174 µs, total: 111 ms\n",
      "Wall time: 109 ms\n",
      "CPU times: user 905 ms, sys: 91.8 ms, total: 996 ms\n",
      "Wall time: 511 ms\n",
      "CPU times: user 999 ms, sys: 279 ms, total: 1.28 s\n",
      "Wall time: 534 ms\n",
      "CPU times: user 723 ms, sys: 312 ms, total: 1.04 s\n",
      "Wall time: 2min 51s\n",
      "{'fit_time': array([159.60237288, 156.22412705, 170.25915217, 170.28402519]), 'score_time': array([0.0509212 , 0.07766008, 0.04907322, 0.04557395]), 'test_score': array([0.86349755, 0.83586906, 0.87231222, 0.8557016 ])}\n"
     ]
    }
   ],
   "source": [
    "## CV/train SGD from above again with scaled features\n",
    "sgd=SGDClassifier(loss=\"hinge\", random_state=42)\n",
    "%time sgd.fit(X_train_scale, y_train)\n",
    "%time y_pred = sgd.predict(X_test)\n",
    "%time y_pred = sgd.predict(X_test)\n",
    "\n",
    "%time scores = cross_validate(sgd, X_test, y_test, cv=4, n_jobs=-1, scoring=\"accuracy\")\n",
    "print(scores)"
   ]
  },
  {
   "cell_type": "code",
   "execution_count": 19,
   "metadata": {},
   "outputs": [
    {
     "data": {
      "text/plain": [
       "(<matplotlib.image.AxesImage at 0x7f7cac6ed0d0>,\n",
       " Text(0, 0.5, 'Actual'),\n",
       " Text(0.5, 0, 'Predicted'))"
      ]
     },
     "execution_count": 19,
     "metadata": {},
     "output_type": "execute_result"
    },
    {
     "data": {
      "image/png": "[encoded data removed]",
      "text/plain": [
       "<Figure size 288x288 with 1 Axes>"
      ]
     },
     "metadata": {
      "needs_background": "light"
     },
     "output_type": "display_data"
    }
   ],
   "source": [
    "## confusion matrix plot\n",
    "conf_mat=confusion_matrix(y_test, y_pred)\n",
    "np.fill_diagonal(conf_mat, 0)\n",
    "matshow(conf_mat), ylabel(\"Actual\"), xlabel(\"Predicted\")"
   ]
  },
  {
   "cell_type": "markdown",
   "metadata": {},
   "source": [
    "### Questions\n",
    "\n",
    "1. Which learning algorithm does the `SGDClassifier` use under the hood in this example? \n",
    "2. Why does the scaling improve the result?"
   ]
  },
  {
   "cell_type": "markdown",
   "metadata": {},
   "source": [
    "### Answer\n",
    "1) gradient descent\n",
    "\n",
    "2) durch Standardisierung der Daten, was die Rechenzeit verringert."
   ]
  },
  {
   "cell_type": "markdown",
   "metadata": {},
   "source": [
    "### Exercise\n",
    "\n",
    "Train a `DecisionTreeClassifier` (dt) on the training set and compute the `macro` averaged F1-Score on the test set. **Make sure to avoid overfitting by using the regularization hyper-parameters!** (You can also use GridSearch to find good parameters)"
   ]
  },
  {
   "cell_type": "code",
   "execution_count": 29,
   "metadata": {},
   "outputs": [
    {
     "name": "stdout",
     "output_type": "stream",
     "text": [
      "CPU times: user 44.9 ms, sys: 60 µs, total: 45 ms\n",
      "Wall time: 42.8 ms\n",
      "CPU times: user 91.6 ms, sys: 36 ms, total: 128 ms\n",
      "Wall time: 127 ms\n"
     ]
    },
    {
     "name": "stderr",
     "output_type": "stream",
     "text": [
      "/home/jan/anaconda3/envs/tf2/lib/python3.7/site-packages/sklearn/model_selection/_split.py:1978: FutureWarning: The default value of cv will change from 3 to 5 in version 0.22. Specify it explicitly to silence this warning.\n",
      "  warnings.warn(CV_WARNING, FutureWarning)\n",
      "/home/jan/anaconda3/envs/tf2/lib/python3.7/site-packages/sklearn/model_selection/_search.py:814: DeprecationWarning: The default of the `iid` parameter will change from True to False in version 0.22 and will be removed in 0.24. This will change numeric results when test-set sizes are unequal.\n",
      "  DeprecationWarning)\n"
     ]
    }
   ],
   "source": [
    "## train dt and then predict labels for the test set\n",
    "from sklearn.tree import DecisionTreeClassifier\n",
    "from sklearn.model_selection import GridSearchCV\n",
    "dtc=DecisionTreeClassifier(random_state=42)\n",
    "gsc=GridSearchCV(dtc,param_grid={'max_features':[9]})\n",
    "%time gsc.fit(X_train, y_train)\n",
    "%time y_gsc_pred = gsc.predict(X_test)"
   ]
  },
  {
   "cell_type": "code",
   "execution_count": 21,
   "metadata": {
    "scrolled": true
   },
   "outputs": [
    {
     "data": {
      "text/plain": [
       "array([0.61685824, 0.84358545, 0.54474882, 0.42020335, 0.48848504,\n",
       "       0.3370089 , 0.5709353 , 0.63307762, 0.39208551, 0.42884672])"
      ]
     },
     "execution_count": 21,
     "metadata": {},
     "output_type": "execute_result"
    }
   ],
   "source": [
    "## averaged F1-Score on the test set\n",
    "f1_score(y_test, y_gsc_pred, average=None)"
   ]
  },
  {
   "cell_type": "markdown",
   "metadata": {},
   "source": [
    "### Exercise\n",
    "\n",
    "Train a Random Forest classifier `RandomForestClassifier` (rf) and an Extra-Trees classifier `ExtraTreesClassifier` (et), each with 100 estimators and `random_state=42` (for determinism)."
   ]
  },
  {
   "cell_type": "code",
   "execution_count": 22,
   "metadata": {},
   "outputs": [],
   "source": [
    "## instanciate rf and et\n",
    "from sklearn.ensemble import RandomForestClassifier\n",
    "from sklearn.ensemble import ExtraTreesClassifier\n",
    "rfc = RandomForestClassifier(random_state=42)\n",
    "etc = ExtraTreesClassifier(n_estimators=100, random_state=42)"
   ]
  },
  {
   "cell_type": "code",
   "execution_count": 23,
   "metadata": {},
   "outputs": [
    {
     "name": "stderr",
     "output_type": "stream",
     "text": [
      "/home/jan/anaconda3/envs/tf2/lib/python3.7/site-packages/sklearn/ensemble/forest.py:245: FutureWarning: The default value of n_estimators will change from 10 in version 0.20 to 100 in 0.22.\n",
      "  \"10 in version 0.20 to 100 in 0.22.\", FutureWarning)\n"
     ]
    },
    {
     "name": "stdout",
     "output_type": "stream",
     "text": [
      "CPU times: user 40.8 ms, sys: 4.07 ms, total: 44.9 ms\n",
      "Wall time: 46.3 ms\n",
      "CPU times: user 264 ms, sys: 4 µs, total: 264 ms\n",
      "Wall time: 262 ms\n"
     ]
    },
    {
     "data": {
      "text/plain": [
       "ExtraTreesClassifier(bootstrap=False, class_weight=None, criterion='gini',\n",
       "                     max_depth=None, max_features='auto', max_leaf_nodes=None,\n",
       "                     min_impurity_decrease=0.0, min_impurity_split=None,\n",
       "                     min_samples_leaf=1, min_samples_split=2,\n",
       "                     min_weight_fraction_leaf=0.0, n_estimators=100,\n",
       "                     n_jobs=None, oob_score=False, random_state=42, verbose=0,\n",
       "                     warm_start=False)"
      ]
     },
     "execution_count": 23,
     "metadata": {},
     "output_type": "execute_result"
    }
   ],
   "source": [
    "## train rf and et \n",
    "%time rfc.fit(X_train, y_train)\n",
    "%time etc.fit(X_train, y_train)"
   ]
  },
  {
   "cell_type": "code",
   "execution_count": 24,
   "metadata": {},
   "outputs": [
    {
     "name": "stdout",
     "output_type": "stream",
     "text": [
      "CPU times: user 229 ms, sys: 23.8 ms, total: 253 ms\n",
      "Wall time: 251 ms\n",
      "CPU times: user 1.55 s, sys: 24 ms, total: 1.58 s\n",
      "Wall time: 1.58 s\n"
     ]
    }
   ],
   "source": [
    "## predict labels for the test set\n",
    "%time y_rfc_pred = rfc.predict(X_test)\n",
    "%time y_etc_pred = etc.predict(X_test)"
   ]
  },
  {
   "cell_type": "markdown",
   "metadata": {},
   "source": [
    "### Exercise\n",
    "\n",
    "Compute the `accuracy_score` on the test set for each of the 4 classifiers from Exercise 1-4.\n",
    "\n",
    "Then, combine the 4 classifiers into one `VotingClassifier` (vc) ensemble and compute the accuracy on the test set for this ensemble."
   ]
  },
  {
   "cell_type": "code",
   "execution_count": 25,
   "metadata": {},
   "outputs": [
    {
     "name": "stdout",
     "output_type": "stream",
     "text": [
      "0.5468731988472623\n",
      "0.5368587896253603\n",
      "0.7525360230547551\n",
      "0.8648703170028819\n"
     ]
    }
   ],
   "source": [
    "## socre all\n",
    "from sklearn.metrics import accuracy_score\n",
    "print(accuracy_score(y_test, y_pred))\n",
    "print(accuracy_score(y_test, y_gsc_pred))\n",
    "print(accuracy_score(y_test, y_rfc_pred))\n",
    "print(accuracy_score(y_test, y_etc_pred))"
   ]
  },
  {
   "cell_type": "code",
   "execution_count": 26,
   "metadata": {},
   "outputs": [
    {
     "name": "stderr",
     "output_type": "stream",
     "text": [
      "/home/jan/anaconda3/envs/tf2/lib/python3.7/site-packages/sklearn/model_selection/_split.py:1978: FutureWarning: The default value of cv will change from 3 to 5 in version 0.22. Specify it explicitly to silence this warning.\n",
      "  warnings.warn(CV_WARNING, FutureWarning)\n",
      "/home/jan/anaconda3/envs/tf2/lib/python3.7/site-packages/sklearn/model_selection/_search.py:814: DeprecationWarning: The default of the `iid` parameter will change from True to False in version 0.22 and will be removed in 0.24. This will change numeric results when test-set sizes are unequal.\n",
      "  DeprecationWarning)\n"
     ]
    },
    {
     "name": "stdout",
     "output_type": "stream",
     "text": [
      "CPU times: user 430 ms, sys: 101 µs, total: 430 ms\n",
      "Wall time: 427 ms\n"
     ]
    }
   ],
   "source": [
    "## train vc\n",
    "from sklearn.ensemble import VotingClassifier\n",
    "voc = VotingClassifier(estimators=[('sgd', sgd), ('gsc', gsc), ('rfc', rfc), ('etc', etc)], voting='hard')\n",
    "%time voc = voc.fit(X_train, y_train)"
   ]
  },
  {
   "cell_type": "code",
   "execution_count": 27,
   "metadata": {},
   "outputs": [
    {
     "name": "stdout",
     "output_type": "stream",
     "text": [
      "CPU times: user 3.66 s, sys: 328 ms, total: 3.99 s\n",
      "Wall time: 3.22 s\n",
      "0.8398559077809798\n"
     ]
    }
   ],
   "source": [
    "## predict labels for the test set\n",
    "%time y_voc_pred = voc.predict(X_test)\n",
    "print(accuracy_score(y_test, y_voc_pred))"
   ]
  },
  {
   "cell_type": "markdown",
   "metadata": {},
   "source": [
    "### Question\n",
    "\n",
    "All four classifiers in the ensemble were trained on the same dataset (ie., no bagging, pasting, boosting). Could an ensemble still achieve a higher prediction accuracy than the individual classifiers (regardless of whether it actually happened here)? Why?"
   ]
  },
  {
   "cell_type": "markdown",
   "metadata": {},
   "source": [
    "#### Answer\n",
    "Ja, wenn speziell auf die Daten ein trainiertes Modell erstellt werden würde.\n",
    "Bei den verwendeten Modellen hängt die Einteilung jeder Klasse von der Gewichtung vom Durchschnittsparameter ab.\n"
   ]
  },
  {
   "cell_type": "markdown",
   "metadata": {},
   "source": [
    "### Optional\n",
    "\n",
    "Construct a Gaussian kernel [Support Vector Machine](http://scikit-learn.org/stable/modules/svm.html) with `C=5, gamma=0.05` and check if the `VotingClassifier` can be improved with that additional classifier (this increases the compute time by about 30 minutes or longer)."
   ]
  }
 ],
 "metadata": {
  "kernelspec": {
   "display_name": "Python 3",
   "language": "python",
   "name": "python3"
  },
  "language_info": {
   "codemirror_mode": {
    "name": "ipython",
    "version": 3
   },
   "file_extension": ".py",
   "mimetype": "text/x-python",
   "name": "python",
   "nbconvert_exporter": "python",
   "pygments_lexer": "ipython3",
   "version": "3.7.8"
  }
 },
 "nbformat": 4,
 "nbformat_minor": 2
}
